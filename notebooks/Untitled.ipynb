{
 "cells": [
  {
   "cell_type": "code",
   "execution_count": 10,
   "id": "00475c03",
   "metadata": {},
   "outputs": [],
   "source": [
    "import pandas as pd\n",
    "import numpy as np\n",
    "from lightfm.data import Dataset\n",
    "from lightfm import LightFM"
   ]
  },
  {
   "cell_type": "code",
   "execution_count": 2,
   "id": "b1962321",
   "metadata": {},
   "outputs": [
    {
     "data": {
      "text/html": [
       "<div>\n",
       "<style scoped>\n",
       "    .dataframe tbody tr th:only-of-type {\n",
       "        vertical-align: middle;\n",
       "    }\n",
       "\n",
       "    .dataframe tbody tr th {\n",
       "        vertical-align: top;\n",
       "    }\n",
       "\n",
       "    .dataframe thead th {\n",
       "        text-align: right;\n",
       "    }\n",
       "</style>\n",
       "<table border=\"1\" class=\"dataframe\">\n",
       "  <thead>\n",
       "    <tr style=\"text-align: right;\">\n",
       "      <th></th>\n",
       "      <th>uid</th>\n",
       "      <th>iid</th>\n",
       "    </tr>\n",
       "  </thead>\n",
       "  <tbody>\n",
       "    <tr>\n",
       "      <th>0</th>\n",
       "      <td>u1</td>\n",
       "      <td>i1</td>\n",
       "    </tr>\n",
       "    <tr>\n",
       "      <th>1</th>\n",
       "      <td>u1</td>\n",
       "      <td>i2</td>\n",
       "    </tr>\n",
       "    <tr>\n",
       "      <th>2</th>\n",
       "      <td>u2</td>\n",
       "      <td>i1</td>\n",
       "    </tr>\n",
       "  </tbody>\n",
       "</table>\n",
       "</div>"
      ],
      "text/plain": [
       "  uid iid\n",
       "0  u1  i1\n",
       "1  u1  i2\n",
       "2  u2  i1"
      ]
     },
     "execution_count": 2,
     "metadata": {},
     "output_type": "execute_result"
    }
   ],
   "source": [
    "df = pd.DataFrame([\n",
    "    ('u1', 'i1'), ('u1', 'i2'), ('u2', 'i1')\n",
    "], columns=['uid', 'iid'])\n",
    "\n",
    "df"
   ]
  },
  {
   "cell_type": "code",
   "execution_count": 4,
   "id": "e6fbfd92",
   "metadata": {},
   "outputs": [],
   "source": [
    "data = Dataset()\n",
    "data.fit(\n",
    "    users=df['uid'].unique().tolist(),\n",
    "    items=df['iid'].unique().tolist()\n",
    ")\n",
    "\n",
    "interactions, weights = data.build_interactions(df[['uid', 'iid']].values.tolist())"
   ]
  },
  {
   "cell_type": "code",
   "execution_count": 5,
   "id": "469b8ea2",
   "metadata": {},
   "outputs": [
    {
     "data": {
      "text/plain": [
       "<lightfm.lightfm.LightFM at 0x7f9788d28e80>"
      ]
     },
     "execution_count": 5,
     "metadata": {},
     "output_type": "execute_result"
    }
   ],
   "source": [
    "rec = LightFM()\n",
    "rec.fit(\n",
    "    interactions=interactions,\n",
    "    sample_weight=weights\n",
    ")"
   ]
  },
  {
   "cell_type": "code",
   "execution_count": 78,
   "id": "874a7a4b",
   "metadata": {},
   "outputs": [
    {
     "data": {
      "text/plain": [
       "[[0, 1], [0, 1]]"
      ]
     },
     "execution_count": 78,
     "metadata": {},
     "output_type": "execute_result"
    }
   ],
   "source": [
    "np.argsort(\n",
    "    -rec.predict(\n",
    "        user_ids=np.array([0, 0, 1, 1], dtype=np.int32),\n",
    "        item_ids=np.array([0, 1, 0, 1], dtype=np.int32),\n",
    "    ).reshape(2, -1)\n",
    ").tolist()"
   ]
  },
  {
   "cell_type": "code",
   "execution_count": 67,
   "id": "6a806a6a",
   "metadata": {},
   "outputs": [
    {
     "data": {
      "text/plain": [
       "(array([0.09381282, 0.07361589], dtype=float32),\n",
       " array([0.07186899, 0.05039217], dtype=float32))"
      ]
     },
     "execution_count": 67,
     "metadata": {},
     "output_type": "execute_result"
    }
   ],
   "source": [
    "(\n",
    "    rec.predict(user_ids=0, item_ids=list(iid.values())),\n",
    "    rec.predict(user_ids=1, item_ids=list(iid.values()))\n",
    ")"
   ]
  },
  {
   "cell_type": "code",
   "execution_count": 32,
   "id": "d5eab35f",
   "metadata": {},
   "outputs": [],
   "source": [
    "uid, _, iid, _ = data.mapping()"
   ]
  },
  {
   "cell_type": "code",
   "execution_count": 33,
   "id": "8a94aa23",
   "metadata": {},
   "outputs": [
    {
     "data": {
      "text/plain": [
       "{'i1': 0, 'i2': 1}"
      ]
     },
     "execution_count": 33,
     "metadata": {},
     "output_type": "execute_result"
    }
   ],
   "source": [
    "iid"
   ]
  },
  {
   "cell_type": "code",
   "execution_count": 44,
   "id": "026b9f7d",
   "metadata": {},
   "outputs": [
    {
     "data": {
      "text/plain": [
       "{0: 'i1', 1: 'i2'}"
      ]
     },
     "execution_count": 44,
     "metadata": {},
     "output_type": "execute_result"
    }
   ],
   "source": [
    "iid_reverted = {v: k for k, v in iid.items()}\n",
    "iid_reverted"
   ]
  },
  {
   "cell_type": "code",
   "execution_count": 35,
   "id": "bb95fdc6",
   "metadata": {},
   "outputs": [
    {
     "data": {
      "text/plain": [
       "dict_values([0, 1])"
      ]
     },
     "execution_count": 35,
     "metadata": {},
     "output_type": "execute_result"
    }
   ],
   "source": [
    "iid.values()"
   ]
  },
  {
   "cell_type": "code",
   "execution_count": 47,
   "id": "22460460",
   "metadata": {},
   "outputs": [
    {
     "data": {
      "text/plain": [
       "['i1', 'i2']"
      ]
     },
     "execution_count": 47,
     "metadata": {},
     "output_type": "execute_result"
    }
   ],
   "source": [
    "iid.keys()\n",
    "[iid_reverted[k] for k in np.argsort(\n",
    "    -rec.predict(user_ids=1, item_ids=list(iid.values()))\n",
    ")[:2]]"
   ]
  },
  {
   "cell_type": "code",
   "execution_count": 51,
   "id": "e432a902",
   "metadata": {},
   "outputs": [
    {
     "data": {
      "text/plain": [
       "{'loss': 'logistic',\n",
       " 'learning_schedule': 'adagrad',\n",
       " 'no_components': 10,\n",
       " 'learning_rate': 0.05,\n",
       " 'k': 5,\n",
       " 'n': 10,\n",
       " 'rho': 0.95,\n",
       " 'epsilon': 1e-06,\n",
       " 'max_sampled': 10,\n",
       " 'item_alpha': 0.0,\n",
       " 'user_alpha': 0.0,\n",
       " 'random_state': RandomState(MT19937) at 0x7F9788254D40}"
      ]
     },
     "execution_count": 51,
     "metadata": {},
     "output_type": "execute_result"
    }
   ],
   "source": [
    "rec.get_params()"
   ]
  },
  {
   "cell_type": "code",
   "execution_count": 53,
   "id": "41203766",
   "metadata": {},
   "outputs": [
    {
     "data": {
      "text/plain": [
       "[1, 2, 3]"
      ]
     },
     "execution_count": 53,
     "metadata": {},
     "output_type": "execute_result"
    }
   ],
   "source": [
    "pd.Series([1, 2, 3]).tolist()"
   ]
  },
  {
   "cell_type": "code",
   "execution_count": 57,
   "id": "138d72db",
   "metadata": {},
   "outputs": [],
   "source": [
    "recs = []\n",
    "N=2\n",
    "for uid_ in ['u1', 'u2']:\n",
    "    recs.append([\n",
    "        iid_reverted[k]\n",
    "        for k in np.argsort(-rec.predict(\n",
    "            user_ids=uid.get(uid_),\n",
    "            item_ids=list(iid.values())\n",
    "        )[:N])\n",
    "    ])"
   ]
  },
  {
   "cell_type": "code",
   "execution_count": 64,
   "id": "7421461f",
   "metadata": {},
   "outputs": [
    {
     "data": {
      "text/plain": [
       "['i1', 'i2']"
      ]
     },
     "execution_count": 64,
     "metadata": {},
     "output_type": "execute_result"
    }
   ],
   "source": [
    "pd.Series(recs[0]).tolist()"
   ]
  },
  {
   "cell_type": "code",
   "execution_count": 80,
   "id": "f5e1f39d",
   "metadata": {},
   "outputs": [],
   "source": [
    "test = pd.read_csv('../data/raw/sample_submission.csv')\n",
    "interact = pd.read_csv('../data/raw/interactions.csv')\n",
    "users = pd.read_csv('../data/raw/users.csv')"
   ]
  },
  {
   "cell_type": "code",
   "execution_count": 83,
   "id": "a7ecd4f2",
   "metadata": {},
   "outputs": [],
   "source": [
    "test_ = test['user_id'].unique().tolist()\n",
    "interact_ = interact['user_id'].unique().tolist()\n",
    "users_ = users['user_id'].unique().tolist()"
   ]
  },
  {
   "cell_type": "code",
   "execution_count": 86,
   "id": "201e0e84",
   "metadata": {},
   "outputs": [
    {
     "data": {
      "text/plain": [
       "0.6637046703225573"
      ]
     },
     "execution_count": 86,
     "metadata": {},
     "output_type": "execute_result"
    }
   ],
   "source": [
    "len(list(set(test_).intersection(set(interact_)))) / len(test_)"
   ]
  },
  {
   "cell_type": "code",
   "execution_count": 87,
   "id": "95442848",
   "metadata": {},
   "outputs": [
    {
     "data": {
      "text/plain": [
       "0.7764780206407648"
      ]
     },
     "execution_count": 87,
     "metadata": {},
     "output_type": "execute_result"
    }
   ],
   "source": [
    "len(list(set(test_).intersection(set(users_)))) / len(test_)"
   ]
  },
  {
   "cell_type": "code",
   "execution_count": 89,
   "id": "6b365fc2",
   "metadata": {},
   "outputs": [
    {
     "data": {
      "text/html": [
       "<div>\n",
       "<style scoped>\n",
       "    .dataframe tbody tr th:only-of-type {\n",
       "        vertical-align: middle;\n",
       "    }\n",
       "\n",
       "    .dataframe tbody tr th {\n",
       "        vertical-align: top;\n",
       "    }\n",
       "\n",
       "    .dataframe thead th {\n",
       "        text-align: right;\n",
       "    }\n",
       "</style>\n",
       "<table border=\"1\" class=\"dataframe\">\n",
       "  <thead>\n",
       "    <tr style=\"text-align: right;\">\n",
       "      <th></th>\n",
       "      <th>sex</th>\n",
       "      <th>kids_flg</th>\n",
       "    </tr>\n",
       "  </thead>\n",
       "  <tbody>\n",
       "    <tr>\n",
       "      <th>0</th>\n",
       "      <td>М</td>\n",
       "      <td>1</td>\n",
       "    </tr>\n",
       "    <tr>\n",
       "      <th>1</th>\n",
       "      <td>М</td>\n",
       "      <td>0</td>\n",
       "    </tr>\n",
       "    <tr>\n",
       "      <th>2</th>\n",
       "      <td>Ж</td>\n",
       "      <td>0</td>\n",
       "    </tr>\n",
       "    <tr>\n",
       "      <th>3</th>\n",
       "      <td>Ж</td>\n",
       "      <td>0</td>\n",
       "    </tr>\n",
       "    <tr>\n",
       "      <th>4</th>\n",
       "      <td>Ж</td>\n",
       "      <td>0</td>\n",
       "    </tr>\n",
       "    <tr>\n",
       "      <th>...</th>\n",
       "      <td>...</td>\n",
       "      <td>...</td>\n",
       "    </tr>\n",
       "    <tr>\n",
       "      <th>840192</th>\n",
       "      <td>Ж</td>\n",
       "      <td>0</td>\n",
       "    </tr>\n",
       "    <tr>\n",
       "      <th>840193</th>\n",
       "      <td>Ж</td>\n",
       "      <td>1</td>\n",
       "    </tr>\n",
       "    <tr>\n",
       "      <th>840194</th>\n",
       "      <td>NaN</td>\n",
       "      <td>0</td>\n",
       "    </tr>\n",
       "    <tr>\n",
       "      <th>840195</th>\n",
       "      <td>Ж</td>\n",
       "      <td>0</td>\n",
       "    </tr>\n",
       "    <tr>\n",
       "      <th>840196</th>\n",
       "      <td>Ж</td>\n",
       "      <td>0</td>\n",
       "    </tr>\n",
       "  </tbody>\n",
       "</table>\n",
       "<p>840197 rows × 2 columns</p>\n",
       "</div>"
      ],
      "text/plain": [
       "        sex  kids_flg\n",
       "0         М         1\n",
       "1         М         0\n",
       "2         Ж         0\n",
       "3         Ж         0\n",
       "4         Ж         0\n",
       "...     ...       ...\n",
       "840192    Ж         0\n",
       "840193    Ж         1\n",
       "840194  NaN         0\n",
       "840195    Ж         0\n",
       "840196    Ж         0\n",
       "\n",
       "[840197 rows x 2 columns]"
      ]
     },
     "execution_count": 89,
     "metadata": {},
     "output_type": "execute_result"
    }
   ],
   "source": [
    "users[['sex', 'kids_flg']]"
   ]
  },
  {
   "cell_type": "code",
   "execution_count": 94,
   "id": "6c88c37e",
   "metadata": {},
   "outputs": [
    {
     "data": {
      "text/plain": [
       "array([0, 1, 1, ..., 1, 1, 0])"
      ]
     },
     "execution_count": 94,
     "metadata": {},
     "output_type": "execute_result"
    }
   ],
   "source": [
    "import numpy as np\n",
    "\n",
    "y = np.random.randint(0, 2, users.shape[0])\n",
    "y"
   ]
  },
  {
   "cell_type": "code",
   "execution_count": 91,
   "id": "fc80567b",
   "metadata": {},
   "outputs": [],
   "source": [
    "from xgboost import XGBClassifier"
   ]
  },
  {
   "cell_type": "code",
   "execution_count": 95,
   "id": "907cde37",
   "metadata": {},
   "outputs": [
    {
     "name": "stderr",
     "output_type": "stream",
     "text": [
      "/Users/d-emeljanov/pet_projects/recsys-course/notebooks/venv/lib/python3.9/site-packages/xgboost/sklearn.py:1224: UserWarning: The use of label encoder in XGBClassifier is deprecated and will be removed in a future release. To remove this warning, do the following: 1) Pass option use_label_encoder=False when constructing XGBClassifier object; and 2) Encode your labels (y) as integers starting with 0, i.e. 0, 1, 2, ..., [num_class - 1].\n",
      "  warnings.warn(label_encoder_deprecation_msg, UserWarning)\n"
     ]
    },
    {
     "name": "stdout",
     "output_type": "stream",
     "text": [
      "[13:25:39] WARNING: /Users/runner/work/xgboost/xgboost/src/learner.cc:1115: Starting in XGBoost 1.3.0, the default evaluation metric used with the objective 'binary:logistic' was changed from 'error' to 'logloss'. Explicitly set eval_metric if you'd like to restore the old behavior.\n"
     ]
    },
    {
     "data": {
      "text/plain": [
       "XGBClassifier(base_score=0.5, booster='gbtree', colsample_bylevel=1,\n",
       "              colsample_bynode=1, colsample_bytree=1, enable_categorical=False,\n",
       "              gamma=0, gpu_id=-1, importance_type=None,\n",
       "              interaction_constraints='', learning_rate=0.300000012,\n",
       "              max_delta_step=0, max_depth=6, min_child_weight=1, missing=nan,\n",
       "              monotone_constraints='()', n_estimators=100, n_jobs=12,\n",
       "              num_parallel_tree=1, predictor='auto', random_state=0,\n",
       "              reg_alpha=0, reg_lambda=1, scale_pos_weight=1, subsample=1,\n",
       "              tree_method='exact', validate_parameters=1, verbosity=None)"
      ]
     },
     "execution_count": 95,
     "metadata": {},
     "output_type": "execute_result"
    }
   ],
   "source": [
    "m = XGBClassifier()\n",
    "m.fit(users[['kids_flg']], y)"
   ]
  },
  {
   "cell_type": "code",
   "execution_count": 104,
   "id": "ca0c4aee",
   "metadata": {},
   "outputs": [
    {
     "data": {
      "text/plain": [
       "array([0.5012169, 0.4990798, 0.4990798, ..., 0.4990798, 0.4990798,\n",
       "       0.4990798], dtype=float32)"
      ]
     },
     "execution_count": 104,
     "metadata": {},
     "output_type": "execute_result"
    }
   ],
   "source": [
    "m.predict_proba(users[['kids_flg']])[:, 1]"
   ]
  },
  {
   "cell_type": "code",
   "execution_count": 101,
   "id": "19fbe76c",
   "metadata": {},
   "outputs": [
    {
     "data": {
      "text/html": [
       "<div>\n",
       "<style scoped>\n",
       "    .dataframe tbody tr th:only-of-type {\n",
       "        vertical-align: middle;\n",
       "    }\n",
       "\n",
       "    .dataframe tbody tr th {\n",
       "        vertical-align: top;\n",
       "    }\n",
       "\n",
       "    .dataframe thead th {\n",
       "        text-align: right;\n",
       "    }\n",
       "</style>\n",
       "<table border=\"1\" class=\"dataframe\">\n",
       "  <thead>\n",
       "    <tr style=\"text-align: right;\">\n",
       "      <th></th>\n",
       "      <th>u</th>\n",
       "      <th>r</th>\n",
       "    </tr>\n",
       "  </thead>\n",
       "  <tbody>\n",
       "    <tr>\n",
       "      <th>0</th>\n",
       "      <td>a</td>\n",
       "      <td>1</td>\n",
       "    </tr>\n",
       "    <tr>\n",
       "      <th>0</th>\n",
       "      <td>a</td>\n",
       "      <td>2</td>\n",
       "    </tr>\n",
       "    <tr>\n",
       "      <th>0</th>\n",
       "      <td>a</td>\n",
       "      <td>3</td>\n",
       "    </tr>\n",
       "    <tr>\n",
       "      <th>1</th>\n",
       "      <td>b</td>\n",
       "      <td>5</td>\n",
       "    </tr>\n",
       "    <tr>\n",
       "      <th>1</th>\n",
       "      <td>b</td>\n",
       "      <td>6</td>\n",
       "    </tr>\n",
       "    <tr>\n",
       "      <th>1</th>\n",
       "      <td>b</td>\n",
       "      <td>8</td>\n",
       "    </tr>\n",
       "  </tbody>\n",
       "</table>\n",
       "</div>"
      ],
      "text/plain": [
       "   u  r\n",
       "0  a  1\n",
       "0  a  2\n",
       "0  a  3\n",
       "1  b  5\n",
       "1  b  6\n",
       "1  b  8"
      ]
     },
     "execution_count": 101,
     "metadata": {},
     "output_type": "execute_result"
    }
   ],
   "source": [
    "c = pd.DataFrame([\n",
    "    ['a', [1, 2, 3]],\n",
    "    ['b', [5, 6, 8]]\n",
    "],  columns=['u', 'r'])\n",
    "\n",
    "c.explode('r')"
   ]
  },
  {
   "cell_type": "code",
   "execution_count": 98,
   "id": "256086f5",
   "metadata": {},
   "outputs": [
    {
     "data": {
      "text/html": [
       "<div>\n",
       "<style scoped>\n",
       "    .dataframe tbody tr th:only-of-type {\n",
       "        vertical-align: middle;\n",
       "    }\n",
       "\n",
       "    .dataframe tbody tr th {\n",
       "        vertical-align: top;\n",
       "    }\n",
       "\n",
       "    .dataframe thead th {\n",
       "        text-align: right;\n",
       "    }\n",
       "</style>\n",
       "<table border=\"1\" class=\"dataframe\">\n",
       "  <thead>\n",
       "    <tr style=\"text-align: right;\">\n",
       "      <th></th>\n",
       "      <th>0</th>\n",
       "    </tr>\n",
       "  </thead>\n",
       "  <tbody>\n",
       "    <tr>\n",
       "      <th>0</th>\n",
       "      <td>a</td>\n",
       "    </tr>\n",
       "    <tr>\n",
       "      <th>1</th>\n",
       "      <td>[1, 2, 3]</td>\n",
       "    </tr>\n",
       "    <tr>\n",
       "      <th>2</th>\n",
       "      <td>[b, [5, 6, 8]]</td>\n",
       "    </tr>\n",
       "  </tbody>\n",
       "</table>\n",
       "</div>"
      ],
      "text/plain": [
       "                0\n",
       "0               a\n",
       "1       [1, 2, 3]\n",
       "2  [b, [5, 6, 8]]"
      ]
     },
     "execution_count": 98,
     "metadata": {},
     "output_type": "execute_result"
    }
   ],
   "source": [
    "c"
   ]
  },
  {
   "cell_type": "code",
   "execution_count": 116,
   "id": "460603bb",
   "metadata": {},
   "outputs": [
    {
     "data": {
      "text/html": [
       "<div>\n",
       "<style scoped>\n",
       "    .dataframe tbody tr th:only-of-type {\n",
       "        vertical-align: middle;\n",
       "    }\n",
       "\n",
       "    .dataframe tbody tr th {\n",
       "        vertical-align: top;\n",
       "    }\n",
       "\n",
       "    .dataframe thead th {\n",
       "        text-align: right;\n",
       "    }\n",
       "</style>\n",
       "<table border=\"1\" class=\"dataframe\">\n",
       "  <thead>\n",
       "    <tr style=\"text-align: right;\">\n",
       "      <th></th>\n",
       "      <th>uid</th>\n",
       "      <th>iid</th>\n",
       "    </tr>\n",
       "  </thead>\n",
       "  <tbody>\n",
       "    <tr>\n",
       "      <th>0</th>\n",
       "      <td>1</td>\n",
       "      <td>[3]</td>\n",
       "    </tr>\n",
       "    <tr>\n",
       "      <th>1</th>\n",
       "      <td>2</td>\n",
       "      <td>[1, 1]</td>\n",
       "    </tr>\n",
       "  </tbody>\n",
       "</table>\n",
       "</div>"
      ],
      "text/plain": [
       "   uid     iid\n",
       "0    1     [3]\n",
       "1    2  [1, 1]"
      ]
     },
     "execution_count": 116,
     "metadata": {},
     "output_type": "execute_result"
    }
   ],
   "source": [
    "a = pd.DataFrame([[1, 1], [1, 2], [2,  3]], columns=['uid', 'iid'])\n",
    "\n",
    "import numpy as np\n",
    "\n",
    "class UnusedItems:\n",
    "    \n",
    "    def __init__(self, ids, r):\n",
    "        self.ids = set(list(ids))\n",
    "        self.r = r\n",
    "    \n",
    "    def __call__(self, x):\n",
    "        l = list(set(list(x)) ^ self.ids)\n",
    "        return np.random.choice(l, min([len(l), self.r]))\n",
    "\n",
    "(\n",
    "    a\n",
    "    .groupby('uid')['iid']\n",
    "    .apply(UnusedItems(\n",
    "        ids=a['iid'].unique().tolist(),\n",
    "        r=3\n",
    "    ))\n",
    "    .reset_index()\n",
    ")"
   ]
  },
  {
   "cell_type": "code",
   "execution_count": 131,
   "id": "8767f5e6",
   "metadata": {},
   "outputs": [],
   "source": [
    "a = pd.DataFrame([\n",
    "    (1, 1, 2),\n",
    "    (1, 2, 3),\n",
    "    (1, 3, 4),\n",
    "    (2, 1, 2)\n",
    "], columns=['uid', 'iid', 'score'])\n",
    "\n",
    "N = 2\n",
    "\n",
    "a = a.groupby('uid').apply(lambda x: pd.Series({'iid': x.sort_values('score', ascending=False)['iid'].tolist()[:N]})).reset_index()"
   ]
  },
  {
   "cell_type": "code",
   "execution_count": 137,
   "id": "1d363c0e",
   "metadata": {},
   "outputs": [
    {
     "data": {
      "text/plain": [
       "uid\n",
       "2       [1]\n",
       "1    [3, 2]\n",
       "Name: iid, dtype: object"
      ]
     },
     "execution_count": 137,
     "metadata": {},
     "output_type": "execute_result"
    }
   ],
   "source": [
    "a.set_index('uid').loc[[2, 1], 'iid']"
   ]
  },
  {
   "cell_type": "code",
   "execution_count": null,
   "id": "61ea0c9c",
   "metadata": {},
   "outputs": [],
   "source": []
  }
 ],
 "metadata": {
  "kernelspec": {
   "display_name": "Python 3 (ipykernel)",
   "language": "python",
   "name": "python3"
  },
  "language_info": {
   "codemirror_mode": {
    "name": "ipython",
    "version": 3
   },
   "file_extension": ".py",
   "mimetype": "text/x-python",
   "name": "python",
   "nbconvert_exporter": "python",
   "pygments_lexer": "ipython3",
   "version": "3.9.7"
  }
 },
 "nbformat": 4,
 "nbformat_minor": 5
}
