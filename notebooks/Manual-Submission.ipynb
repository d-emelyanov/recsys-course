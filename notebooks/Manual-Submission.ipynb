{
 "cells": [
  {
   "cell_type": "code",
   "execution_count": 1,
   "id": "89e083a1",
   "metadata": {},
   "outputs": [
    {
     "name": "stderr",
     "output_type": "stream",
     "text": [
      "/Users/d-emeljanov/pet_projects/recsys-course/notebooks/venv/lib/python3.9/site-packages/lightfm/_lightfm_fast.py:9: UserWarning: LightFM was compiled without OpenMP support. Only a single thread will be used.\n",
      "  warnings.warn(\n"
     ]
    }
   ],
   "source": [
    "import pandas as pd\n",
    "from common.data import DataLoader\n",
    "from common.metrics import map_at_k\n",
    "from models.popular import SegmentRecommender, PopularRecommender\n",
    "from models.lightfm import WeightFeaturedLightFM\n",
    "from recsys_course.const import *"
   ]
  },
  {
   "cell_type": "code",
   "execution_count": 2,
   "id": "ccface11",
   "metadata": {},
   "outputs": [],
   "source": [
    "data = DataLoader.from_folder(\n",
    "    '../data/preprocessed/',\n",
    "    user_col='user_id',\n",
    "    item_col='item_id',\n",
    "    date_col='last_watch_dt',\n",
    "    watched_pct_min=0\n",
    ")"
   ]
  },
  {
   "cell_type": "code",
   "execution_count": 3,
   "id": "3e00b219",
   "metadata": {},
   "outputs": [],
   "source": [
    "train = data.interactions.copy()\n",
    "train[DATE_COL] = pd.to_datetime(train[DATE_COL])"
   ]
  },
  {
   "cell_type": "code",
   "execution_count": 4,
   "id": "274a5d23",
   "metadata": {},
   "outputs": [
    {
     "data": {
      "text/html": [
       "<div>\n",
       "<style scoped>\n",
       "    .dataframe tbody tr th:only-of-type {\n",
       "        vertical-align: middle;\n",
       "    }\n",
       "\n",
       "    .dataframe tbody tr th {\n",
       "        vertical-align: top;\n",
       "    }\n",
       "\n",
       "    .dataframe thead th {\n",
       "        text-align: right;\n",
       "    }\n",
       "</style>\n",
       "<table border=\"1\" class=\"dataframe\">\n",
       "  <thead>\n",
       "    <tr style=\"text-align: right;\">\n",
       "      <th></th>\n",
       "      <th>user_id</th>\n",
       "    </tr>\n",
       "  </thead>\n",
       "  <tbody>\n",
       "    <tr>\n",
       "      <th>0</th>\n",
       "      <td>3</td>\n",
       "    </tr>\n",
       "    <tr>\n",
       "      <th>1</th>\n",
       "      <td>11</td>\n",
       "    </tr>\n",
       "    <tr>\n",
       "      <th>2</th>\n",
       "      <td>29</td>\n",
       "    </tr>\n",
       "    <tr>\n",
       "      <th>3</th>\n",
       "      <td>30</td>\n",
       "    </tr>\n",
       "    <tr>\n",
       "      <th>4</th>\n",
       "      <td>33</td>\n",
       "    </tr>\n",
       "    <tr>\n",
       "      <th>...</th>\n",
       "      <td>...</td>\n",
       "    </tr>\n",
       "    <tr>\n",
       "      <th>193108</th>\n",
       "      <td>1097527</td>\n",
       "    </tr>\n",
       "    <tr>\n",
       "      <th>193109</th>\n",
       "      <td>1097537</td>\n",
       "    </tr>\n",
       "    <tr>\n",
       "      <th>193110</th>\n",
       "      <td>1097538</td>\n",
       "    </tr>\n",
       "    <tr>\n",
       "      <th>193111</th>\n",
       "      <td>1097544</td>\n",
       "    </tr>\n",
       "    <tr>\n",
       "      <th>193112</th>\n",
       "      <td>1097558</td>\n",
       "    </tr>\n",
       "  </tbody>\n",
       "</table>\n",
       "<p>193113 rows × 1 columns</p>\n",
       "</div>"
      ],
      "text/plain": [
       "        user_id\n",
       "0             3\n",
       "1            11\n",
       "2            29\n",
       "3            30\n",
       "4            33\n",
       "...         ...\n",
       "193108  1097527\n",
       "193109  1097537\n",
       "193110  1097538\n",
       "193111  1097544\n",
       "193112  1097558\n",
       "\n",
       "[193113 rows x 1 columns]"
      ]
     },
     "execution_count": 4,
     "metadata": {},
     "output_type": "execute_result"
    }
   ],
   "source": [
    "test = pd.read_csv('../data/raw/sample_submission.csv').drop('item_id', axis=1)\n",
    "test"
   ]
  },
  {
   "cell_type": "code",
   "execution_count": 5,
   "id": "ed661ae5",
   "metadata": {},
   "outputs": [],
   "source": [
    "cold_user_ids = set(test['user_id'].unique().tolist()).difference(set(train['user_id'].unique().tolist()))\n",
    "\n",
    "test_cold = test[test['user_id'].isin(cold_user_ids)].reset_index(drop=True)\n",
    "test_warm = test[~test['user_id'].isin(cold_user_ids)].reset_index(drop=True)"
   ]
  },
  {
   "cell_type": "markdown",
   "id": "94ad5a8c",
   "metadata": {},
   "source": [
    "## Cold Predictions"
   ]
  },
  {
   "cell_type": "code",
   "execution_count": 6,
   "id": "ee9d1e68",
   "metadata": {},
   "outputs": [],
   "source": [
    "test_cold_no_features = test_cold.loc[~test_cold['user_id'].isin(data.users['user_id'].tolist())].reset_index(drop=True)\n",
    "test_cold_features = test_cold.loc[test_cold['user_id'].isin(data.users['user_id'].tolist())].reset_index(drop=True)"
   ]
  },
  {
   "cell_type": "code",
   "execution_count": 7,
   "id": "d0e214c3",
   "metadata": {},
   "outputs": [],
   "source": [
    "fallback = PopularRecommender(\n",
    "    fb__min_watched_pct=10,\n",
    "    fb__total_dur_min=2000,\n",
    "    days=10,\n",
    "    date_col=DATE_COL,\n",
    "    user_col=USER_COL,\n",
    "    item_col=ITEM_COL,\n",
    ")\n",
    "\n",
    "fallback.fit(train)\n",
    "\n",
    "test_cold_no_features['item_id'] = fallback.recommend(test_cold_no_features['user_id'].tolist(), 10)"
   ]
  },
  {
   "cell_type": "code",
   "execution_count": 8,
   "id": "cf8ecc50",
   "metadata": {},
   "outputs": [
    {
     "name": "stderr",
     "output_type": "stream",
     "text": [
      "32it [00:07,  4.03it/s]\n"
     ]
    }
   ],
   "source": [
    "popular = SegmentRecommender(\n",
    "    fb__min_watched_pct=10,\n",
    "    fb__total_dur_min=2000,\n",
    "    days=10,\n",
    "    date_col=DATE_COL,\n",
    "    user_col=USER_COL,\n",
    "    item_col=ITEM_COL,\n",
    "    segment=['age', 'sex']\n",
    ")\n",
    "\n",
    "popular.add_user_features(data.users)\n",
    "\n",
    "popular.fit(train)\n",
    "\n",
    "test_cold_features['item_id'] = popular.recommend(test_cold_features['user_id'].tolist(), 10)"
   ]
  },
  {
   "cell_type": "code",
   "execution_count": 9,
   "id": "a562775f",
   "metadata": {},
   "outputs": [
    {
     "data": {
      "text/html": [
       "<div>\n",
       "<style scoped>\n",
       "    .dataframe tbody tr th:only-of-type {\n",
       "        vertical-align: middle;\n",
       "    }\n",
       "\n",
       "    .dataframe tbody tr th {\n",
       "        vertical-align: top;\n",
       "    }\n",
       "\n",
       "    .dataframe thead th {\n",
       "        text-align: right;\n",
       "    }\n",
       "</style>\n",
       "<table border=\"1\" class=\"dataframe\">\n",
       "  <thead>\n",
       "    <tr style=\"text-align: right;\">\n",
       "      <th></th>\n",
       "      <th>user_id</th>\n",
       "      <th>item_id</th>\n",
       "    </tr>\n",
       "  </thead>\n",
       "  <tbody>\n",
       "    <tr>\n",
       "      <th>0</th>\n",
       "      <td>70</td>\n",
       "      <td>[15297, 9728, 10440, 4151, 3734, 13865, 2657, ...</td>\n",
       "    </tr>\n",
       "    <tr>\n",
       "      <th>1</th>\n",
       "      <td>85</td>\n",
       "      <td>[15297, 10440, 9728, 13865, 512, 3734, 12192, ...</td>\n",
       "    </tr>\n",
       "    <tr>\n",
       "      <th>2</th>\n",
       "      <td>97</td>\n",
       "      <td>[15297, 10440, 9728, 13865, 12192, 3734, 512, ...</td>\n",
       "    </tr>\n",
       "    <tr>\n",
       "      <th>3</th>\n",
       "      <td>124</td>\n",
       "      <td>[15297, 10440, 9728, 13865, 12192, 3734, 512, ...</td>\n",
       "    </tr>\n",
       "    <tr>\n",
       "      <th>4</th>\n",
       "      <td>135</td>\n",
       "      <td>[9728, 10440, 15297, 13865, 3734, 14488, 4151,...</td>\n",
       "    </tr>\n",
       "    <tr>\n",
       "      <th>...</th>\n",
       "      <td>...</td>\n",
       "      <td>...</td>\n",
       "    </tr>\n",
       "    <tr>\n",
       "      <th>46203</th>\n",
       "      <td>1097453</td>\n",
       "      <td>[15297, 10440, 9728, 3734, 4151, 13865, 12192,...</td>\n",
       "    </tr>\n",
       "    <tr>\n",
       "      <th>46204</th>\n",
       "      <td>1097494</td>\n",
       "      <td>[9728, 10440, 15297, 13865, 3734, 14488, 4151,...</td>\n",
       "    </tr>\n",
       "    <tr>\n",
       "      <th>46205</th>\n",
       "      <td>1097537</td>\n",
       "      <td>[9728, 10440, 13865, 15297, 512, 12192, 14488,...</td>\n",
       "    </tr>\n",
       "    <tr>\n",
       "      <th>46206</th>\n",
       "      <td>1097538</td>\n",
       "      <td>[9728, 13865, 10440, 15297, 3734, 512, 4685, 1...</td>\n",
       "    </tr>\n",
       "    <tr>\n",
       "      <th>46207</th>\n",
       "      <td>1097558</td>\n",
       "      <td>[15297, 10440, 9728, 3734, 4151, 13865, 12192,...</td>\n",
       "    </tr>\n",
       "  </tbody>\n",
       "</table>\n",
       "<p>46208 rows × 2 columns</p>\n",
       "</div>"
      ],
      "text/plain": [
       "       user_id                                            item_id\n",
       "0           70  [15297, 9728, 10440, 4151, 3734, 13865, 2657, ...\n",
       "1           85  [15297, 10440, 9728, 13865, 512, 3734, 12192, ...\n",
       "2           97  [15297, 10440, 9728, 13865, 12192, 3734, 512, ...\n",
       "3          124  [15297, 10440, 9728, 13865, 12192, 3734, 512, ...\n",
       "4          135  [9728, 10440, 15297, 13865, 3734, 14488, 4151,...\n",
       "...        ...                                                ...\n",
       "46203  1097453  [15297, 10440, 9728, 3734, 4151, 13865, 12192,...\n",
       "46204  1097494  [9728, 10440, 15297, 13865, 3734, 14488, 4151,...\n",
       "46205  1097537  [9728, 10440, 13865, 15297, 512, 12192, 14488,...\n",
       "46206  1097538  [9728, 13865, 10440, 15297, 3734, 512, 4685, 1...\n",
       "46207  1097558  [15297, 10440, 9728, 3734, 4151, 13865, 12192,...\n",
       "\n",
       "[46208 rows x 2 columns]"
      ]
     },
     "execution_count": 9,
     "metadata": {},
     "output_type": "execute_result"
    }
   ],
   "source": [
    "test_cold_features"
   ]
  },
  {
   "cell_type": "markdown",
   "id": "aa599032",
   "metadata": {},
   "source": [
    "## Warm Predictions"
   ]
  },
  {
   "cell_type": "code",
   "execution_count": null,
   "id": "7329b9d2",
   "metadata": {},
   "outputs": [],
   "source": [
    "lfm = WeightFeaturedLightFM(\n",
    "    notseen_watched_upper=95,\n",
    "    notseen_watched_lower=5,\n",
    "    no_components=50,\n",
    "    date_col=DATE_COL,\n",
    "    user_col=USER_COL,\n",
    "    item_col=ITEM_COL,\n",
    "    user_features_col=None,\n",
    "    item_features_col=None,\n",
    "    preprocess_array_split=None\n",
    ")\n",
    "\n",
    "lfm.fit(train)"
   ]
  },
  {
   "cell_type": "code",
   "execution_count": null,
   "id": "132b7bfd",
   "metadata": {},
   "outputs": [],
   "source": [
    "ib, ie = lfm.lightfm.get_item_representations()\n",
    "_, _, map_, _ = lfm.data.mapping()\n",
    "item_embeddings = pd.DataFrame(zip(map_.keys(), *ie.T), columns=['item_id'] + [f'ie_{i}' for i in range(50)])\n",
    "\n",
    "item_embeddings.shape"
   ]
  },
  {
   "cell_type": "code",
   "execution_count": null,
   "id": "0009295d",
   "metadata": {},
   "outputs": [],
   "source": [
    "ub, ue = lfm.lightfm.get_user_representations()\n",
    "map_, _, _, _ = lfm.data.mapping()\n",
    "user_embeddings = pd.DataFrame(zip(map_.keys(), *ue.T), columns=['user_id'] + [f'ue_{i}' for i in range(20)])\n",
    "\n",
    "user_embeddings.shape"
   ]
  },
  {
   "cell_type": "code",
   "execution_count": null,
   "id": "f168e2e3",
   "metadata": {},
   "outputs": [],
   "source": [
    "cbc_df = train.loc[:, ['user_id', 'item_id']]\n",
    "cbc_df.loc[:, 'y'] = 1\n",
    "cbc_unused = data.unused.copy()\n",
    "cbc_unused['y'] = 0\n",
    "\n",
    "cbc_df = pd.merge(\n",
    "    left=pd.merge(\n",
    "        left=pd.merge(\n",
    "            left=pd.merge(\n",
    "                left=pd.concat([cbc_df, cbc_unused]),\n",
    "                right=data.users,\n",
    "                on=[USER_COL],\n",
    "                how='left'\n",
    "            ),\n",
    "            right=data.items,\n",
    "            on=[ITEM_COL],\n",
    "            how='left'\n",
    "        ),\n",
    "        right=user_embeddings,\n",
    "        on=[USER_COL],\n",
    "        how='left'\n",
    "    ),\n",
    "    right=item_embeddings,\n",
    "    on=[ITEM_COL],\n",
    "    how='left'\n",
    ")\n",
    "\n",
    "cbc_df"
   ]
  },
  {
   "cell_type": "code",
   "execution_count": null,
   "id": "95eb01b6",
   "metadata": {},
   "outputs": [],
   "source": [
    "cbc_df.info()"
   ]
  },
  {
   "cell_type": "code",
   "execution_count": null,
   "id": "7387c6cf",
   "metadata": {},
   "outputs": [],
   "source": [
    "cbc_df['sex'] = cbc_df['sex'].fillna('unknown')\n",
    "cbc_df['age'] = cbc_df['age'].fillna('age_unknown')\n",
    "cbc_df['genres'] = cbc_df['genres'].fillna('genres_unknown')\n",
    "cbc_df['income'] = cbc_df['income'].fillna('income_unknown')\n",
    "cbc_df['genres'] = cbc_df['genres'].map(lambda x: x.replace(', ', ' '))"
   ]
  },
  {
   "cell_type": "code",
   "execution_count": null,
   "id": "95ac0e73",
   "metadata": {},
   "outputs": [],
   "source": [
    "cbc_df['genres']"
   ]
  },
  {
   "cell_type": "code",
   "execution_count": null,
   "id": "dc19bfe0",
   "metadata": {},
   "outputs": [],
   "source": [
    "cbc_df['keywords'].map(lambda x: x.lower().replace(', '))"
   ]
  },
  {
   "cell_type": "code",
   "execution_count": null,
   "id": "7e73b905",
   "metadata": {},
   "outputs": [],
   "source": [
    "features = (\n",
    "    ['sex', 'age', 'income', 'release_year_cat', 'content_type']\n",
    "    + ['genres']\n",
    "    + [f'ie_{i}' for i in range(20)]\n",
    "    + [f'ue_{i}' for i in range(20)]\n",
    ")"
   ]
  },
  {
   "cell_type": "code",
   "execution_count": null,
   "id": "3f1c769b",
   "metadata": {},
   "outputs": [],
   "source": [
    "from catboost import CatBoostClassifier\n",
    "\n",
    "cbc = CatBoostClassifier(\n",
    "    cat_features=[0, 1, 2, 3, 4],\n",
    "    text_features=[5],\n",
    "    iterations=20\n",
    ")\n",
    "\n",
    "cbc.fit(cbc_df[features].values, cbc_df['y'])"
   ]
  },
  {
   "cell_type": "code",
   "execution_count": null,
   "id": "3f40d642",
   "metadata": {},
   "outputs": [],
   "source": [
    "test_warm['recs'] = lfm.recommend(test_warm['user_id'].tolist(), 120)"
   ]
  },
  {
   "cell_type": "code",
   "execution_count": null,
   "id": "c6927697",
   "metadata": {},
   "outputs": [],
   "source": [
    "test_pred = pd.merge(\n",
    "    pd.merge(\n",
    "    left=pd.merge(\n",
    "        left=pd.merge(\n",
    "            left=test_warm.explode('recs').rename(columns={'recs': 'item_id'}),\n",
    "            right=data.items,\n",
    "            on=['item_id'],\n",
    "            how='left'\n",
    "        ),\n",
    "        right=data.users,\n",
    "        on=['user_id'],\n",
    "        how='left'\n",
    "    ),\n",
    "    \n",
    "        right=user_embeddings,\n",
    "        on=[USER_COL],\n",
    "        how='left'\n",
    "    ),\n",
    "    right=item_embeddings,\n",
    "    on=[ITEM_COL],\n",
    "    how='left'\n",
    ")\n",
    "\n",
    "test_pred['sex'] = test_pred['sex'].fillna('unknown')\n",
    "test_pred['income'] = test_pred['income'].fillna('income_unknown')\n",
    "test_pred['age'] = test_pred['age'].fillna('age_unknown')\n",
    "test_pred['genres'] = test_pred['genres'].fillna('genres_unknown')\n",
    "\n",
    "test_pred['rating'] = cbc.predict_proba(test_pred[features].values)[:, 1]\n",
    "test_pred = (\n",
    "    test_pred\n",
    "    .groupby('user_id')\n",
    "    .apply(lambda x: x.sort_values('rating', ascending=False)['item_id'].tolist()[:10])\n",
    ")"
   ]
  },
  {
   "cell_type": "code",
   "execution_count": null,
   "id": "fe36563c",
   "metadata": {},
   "outputs": [],
   "source": [
    "(\n",
    "    test.shape[0]\n",
    ") == (\n",
    "    test_cold_no_features.shape[0]\n",
    "    + test_cold_features.shape[0]\n",
    "    + test_pred.shape[0]\n",
    ")"
   ]
  },
  {
   "cell_type": "code",
   "execution_count": null,
   "id": "b83b9ada",
   "metadata": {},
   "outputs": [],
   "source": [
    "test_cold_no_features.isna().sum()"
   ]
  },
  {
   "cell_type": "code",
   "execution_count": null,
   "id": "505eaea4",
   "metadata": {},
   "outputs": [],
   "source": [
    "test_cold_features.isna().sum()"
   ]
  },
  {
   "cell_type": "code",
   "execution_count": null,
   "id": "7908c5d5",
   "metadata": {},
   "outputs": [],
   "source": [
    "test_pred.reset_index().isna().sum()"
   ]
  },
  {
   "cell_type": "code",
   "execution_count": null,
   "id": "76d12bb9",
   "metadata": {},
   "outputs": [],
   "source": [
    "pd.concat([\n",
    "    test_cold_no_features,\n",
    "    test_cold_features,\n",
    "    test_pred.reset_index().rename(columns={0: 'item_id'})\n",
    "]).to_csv('../data/submit.csv', index=None)"
   ]
  },
  {
   "cell_type": "code",
   "execution_count": null,
   "id": "636916d8",
   "metadata": {},
   "outputs": [],
   "source": []
  },
  {
   "cell_type": "code",
   "execution_count": null,
   "id": "0a2f7f3a",
   "metadata": {},
   "outputs": [],
   "source": []
  }
 ],
 "metadata": {
  "kernelspec": {
   "display_name": "Python 3 (ipykernel)",
   "language": "python",
   "name": "python3"
  },
  "language_info": {
   "codemirror_mode": {
    "name": "ipython",
    "version": 3
   },
   "file_extension": ".py",
   "mimetype": "text/x-python",
   "name": "python",
   "nbconvert_exporter": "python",
   "pygments_lexer": "ipython3",
   "version": "3.9.7"
  }
 },
 "nbformat": 4,
 "nbformat_minor": 5
}
