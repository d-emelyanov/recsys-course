{
 "cells": [
  {
   "cell_type": "code",
   "execution_count": 1,
   "id": "37a8f20d",
   "metadata": {},
   "outputs": [
    {
     "name": "stderr",
     "output_type": "stream",
     "text": [
      "/Users/d-emeljanov/pet_projects/recsys-course/notebooks/venv/lib/python3.9/site-packages/lightfm/_lightfm_fast.py:9: UserWarning: LightFM was compiled without OpenMP support. Only a single thread will be used.\n",
      "  warnings.warn(\n"
     ]
    }
   ],
   "source": [
    "import pandas as pd\n",
    "from models.lightfm import SimpleLightFM, FeaturedLightFM, WeightFeaturedLightFM\n",
    "from models.hybrid import TwoStepRecommender, CombineRecommender, CombineUnseenRecommender\n",
    "from models.popular import PopularUnseenRecommmender, PopularRecommender, SegmentUnseenRecommender"
   ]
  },
  {
   "cell_type": "code",
   "execution_count": 2,
   "id": "cec17f32",
   "metadata": {},
   "outputs": [],
   "source": [
    "data = pd.DataFrame([\n",
    "    ('u1', 'i1', '2021-01-01', 90),\n",
    "    ('u1', 'i2', '2021-01-01', 90),\n",
    "    ('u2', 'i2', '2021-01-01', 90),\n",
    "    ('u2', 'i3', '2021-01-01', 90),\n",
    "    ('u3', 'i2', '2021-01-01', 90),\n",
    "    ('u3', 'i3', '2021-01-01', 90),\n",
    "    ('u4', 'i1', '2021-01-01', 90),\n",
    "    ('u5', 'i2', '2021-01-01', 90),\n",
    "    ('u6', 'i3', '2021-01-01', 90),\n",
    "], columns=['uid', 'iid', 'dd', 'watched_pct'])\n",
    "\n",
    "data['dd'] = pd.to_datetime(data['dd'])\n",
    "\n",
    "if_df = pd.DataFrame([\n",
    "    ('i1', 'f11', 'f21'),\n",
    "    ('i2', 'f12', 'f22'),\n",
    "    ('i3', 'f11', 'f23')\n",
    "], columns=['iid', 'if1', 'if2'])\n",
    "\n",
    "uf_df = pd.DataFrame([\n",
    "    ('u1', 'age10'),\n",
    "    ('u2', 'age10'),\n",
    "    ('u3', 'age10'),\n",
    "    ('u4', 'age10'),\n",
    "    ('u5', 'age10'),\n",
    "    ('u6', 'age10'),\n",
    "], columns=['uid', 'uf1'])\n",
    "\n",
    "unused_df = pd.DataFrame([\n",
    "    ('u1', 'i3'),\n",
    "    ('u2', 'i1'),\n",
    "    ('u3', 'i1'),\n",
    "    ('u4', 'i2'),\n",
    "    ('u4', 'i3'),\n",
    "    ('u5', 'i1'),\n",
    "    ('u5', 'i3'),\n",
    "    ('u6', 'i1'),\n",
    "    ('u6', 'i2')\n",
    "], columns=['uid', 'iid'])"
   ]
  },
  {
   "cell_type": "code",
   "execution_count": 4,
   "id": "fa99a326",
   "metadata": {},
   "outputs": [
    {
     "name": "stderr",
     "output_type": "stream",
     "text": [
      "100%|████████████████████████████████████████████████████████████████████████████████████████████████████████████████████████████████████| 4/4 [00:00<00:00, 3091.43it/s]\n",
      "100%|████████████████████████████████████████████████████████████████████████████████████████████████████████████████████████████████████| 4/4 [00:00<00:00, 1359.69it/s]\n"
     ]
    },
    {
     "data": {
      "text/plain": [
       "0        [i2, i3]\n",
       "1        [i1, i3]\n",
       "2        [i1, i2]\n",
       "3    [i1, i2, i3]\n",
       "dtype: object"
      ]
     },
     "execution_count": 4,
     "metadata": {},
     "output_type": "execute_result"
    }
   ],
   "source": [
    "model = CombineRecommender(\n",
    "    models=['popular.PopularUnseenRecommmender'],\n",
    "    models_n=[100],\n",
    "    params=[\n",
    "        '--days', '10'\n",
    "    ],\n",
    "    user_col='uid',\n",
    "    item_col='iid',\n",
    "    date_col='dd',\n",
    ")\n",
    "\n",
    "model.fit(data)\n",
    "\n",
    "model.recommend(user_ids=['u4', 'u5', 'u6', 'u7'], N=10)"
   ]
  },
  {
   "cell_type": "code",
   "execution_count": null,
   "id": "90bfeb30",
   "metadata": {},
   "outputs": [],
   "source": [
    "model = PopularUnseenRecommmender(\n",
    "    days=10,\n",
    "    user_col='uid',\n",
    "    item_col='iid',\n",
    "    date_col='dd',\n",
    ")\n",
    "\n",
    "model.add_item_features(if_df)\n",
    "model.add_user_features(uf_df)\n",
    "\n",
    "model.fit(data)\n",
    "\n",
    "model.recommend(user_ids=['u4', 'u5', 'u6', 'u7'], N=10)"
   ]
  },
  {
   "cell_type": "code",
   "execution_count": null,
   "id": "b05337a3",
   "metadata": {},
   "outputs": [],
   "source": [
    "list(set(['if5', 'if2']))"
   ]
  },
  {
   "cell_type": "code",
   "execution_count": null,
   "id": "117d6d6a",
   "metadata": {},
   "outputs": [],
   "source": [
    "model = WeightFeaturedLightFM(\n",
    "    no_components=10,\n",
    "    user_col='uid',\n",
    "    item_col='iid',\n",
    "    date_col='dd',\n",
    "    user_features_col=['uf1'],\n",
    "    item_features_col=['if1'],\n",
    "    preprocess_array_split=['if1']\n",
    ")\n",
    "\n",
    "# model = TwoStepRecommender(\n",
    "#     models=['lightfm.FeaturedLightFM'],\n",
    "#     models_n=[100],\n",
    "#     final_model='xgboost.XGBoostRecommender',\n",
    "#     params=[\n",
    "#         '--days', '10',\n",
    "#         '--watched_pct_min', '0',\n",
    "#         '--user_features_col', 'uf1',\n",
    "#         '--item_features_col', 'if1', 'if2',\n",
    "#         '--category_features', 'uf1', 'if1', 'if2',\n",
    "#     ],\n",
    "#     user_col='uid',\n",
    "#     item_col='iid',\n",
    "#     date_col='dd'\n",
    "# )\n",
    "\n",
    "model.add_item_features(if_df)\n",
    "model.add_user_features(uf_df)\n",
    "model.add_unused(unused_df)"
   ]
  },
  {
   "cell_type": "code",
   "execution_count": null,
   "id": "7252c21a",
   "metadata": {},
   "outputs": [],
   "source": [
    "model.fit(data)"
   ]
  },
  {
   "cell_type": "code",
   "execution_count": null,
   "id": "5f64237e",
   "metadata": {},
   "outputs": [],
   "source": [
    "model.recommend(user_ids=['u4', 'u5', 'u6'], N=10)"
   ]
  },
  {
   "cell_type": "code",
   "execution_count": null,
   "id": "735a0af2",
   "metadata": {},
   "outputs": [],
   "source": [
    "model.data.mapping()"
   ]
  },
  {
   "cell_type": "code",
   "execution_count": null,
   "id": "06d9d6e6",
   "metadata": {},
   "outputs": [],
   "source": [
    "model.user_seen"
   ]
  },
  {
   "cell_type": "code",
   "execution_count": null,
   "id": "dc3dfeb5",
   "metadata": {},
   "outputs": [],
   "source": [
    "'u7' in data.groupby('uid')['iid'].apply(list).index.intersection(['u6', 'u7'])"
   ]
  },
  {
   "cell_type": "code",
   "execution_count": null,
   "id": "d9446e15",
   "metadata": {},
   "outputs": [],
   "source": []
  },
  {
   "cell_type": "code",
   "execution_count": null,
   "id": "aa50bc9b",
   "metadata": {},
   "outputs": [],
   "source": [
    "data['iid'].value_counts()"
   ]
  },
  {
   "cell_type": "code",
   "execution_count": null,
   "id": "e79b5664",
   "metadata": {},
   "outputs": [],
   "source": [
    "data.groupby('uid')['iid'].value_counts().loc['u1'].head(1).index.tolist()"
   ]
  },
  {
   "cell_type": "code",
   "execution_count": null,
   "id": "1dcaa3ab",
   "metadata": {},
   "outputs": [],
   "source": []
  }
 ],
 "metadata": {
  "kernelspec": {
   "display_name": "Python 3 (ipykernel)",
   "language": "python",
   "name": "python3"
  },
  "language_info": {
   "codemirror_mode": {
    "name": "ipython",
    "version": 3
   },
   "file_extension": ".py",
   "mimetype": "text/x-python",
   "name": "python",
   "nbconvert_exporter": "python",
   "pygments_lexer": "ipython3",
   "version": "3.9.7"
  }
 },
 "nbformat": 4,
 "nbformat_minor": 5
}
