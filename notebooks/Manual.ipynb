{
 "cells": [
  {
   "cell_type": "code",
   "execution_count": 1,
   "id": "76852566",
   "metadata": {},
   "outputs": [
    {
     "name": "stderr",
     "output_type": "stream",
     "text": [
      "/Users/d-emeljanov/pet_projects/recsys-course/notebooks/venv/lib/python3.9/site-packages/lightfm/_lightfm_fast.py:9: UserWarning: LightFM was compiled without OpenMP support. Only a single thread will be used.\n",
      "  warnings.warn(\n"
     ]
    }
   ],
   "source": [
    "import pandas as pd\n",
    "from common.data import DataLoader\n",
    "from common.metrics import map_at_k\n",
    "from models.popular import PopularRecommender, SegmentRecommender\n",
    "from models.lightfm import WeightFeaturedLightFM\n",
    "from recsys_course.const import *"
   ]
  },
  {
   "cell_type": "code",
   "execution_count": 2,
   "id": "d836e767",
   "metadata": {},
   "outputs": [],
   "source": [
    "data = DataLoader.from_folder(\n",
    "    '../data/preprocessed/',\n",
    "    user_col='user_id',\n",
    "    item_col='item_id',\n",
    "    date_col='last_watch_dt',\n",
    "    watched_pct_min=0\n",
    ")"
   ]
  },
  {
   "cell_type": "code",
   "execution_count": 3,
   "id": "7457d11a",
   "metadata": {},
   "outputs": [],
   "source": [
    "train, test = data.get_train_test(test_size=0.3)\n",
    "\n",
    "train[DATE_COL] = pd.to_datetime(train[DATE_COL])\n",
    "test[DATE_COL] = pd.to_datetime(test[DATE_COL])"
   ]
  },
  {
   "cell_type": "code",
   "execution_count": 4,
   "id": "62d7318a",
   "metadata": {},
   "outputs": [],
   "source": [
    "cold_user_ids = set(test['user_id'].unique().tolist()).difference(set(train['user_id'].unique().tolist()))\n",
    "\n",
    "test_cold = test[test['user_id'].isin(cold_user_ids)]\n",
    "test_warm = test[~test['user_id'].isin(cold_user_ids)]"
   ]
  },
  {
   "cell_type": "markdown",
   "id": "79870dae",
   "metadata": {},
   "source": [
    "## Cold Predictions"
   ]
  },
  {
   "cell_type": "code",
   "execution_count": 5,
   "id": "775d3342",
   "metadata": {},
   "outputs": [],
   "source": [
    "test_cold_df = test_cold.groupby('user_id')['item_id'].apply(list).reset_index().rename(columns={'item_id': 'real'})"
   ]
  },
  {
   "cell_type": "code",
   "execution_count": 6,
   "id": "438c2df2",
   "metadata": {},
   "outputs": [],
   "source": [
    "popular = PopularRecommender(\n",
    "    fb__min_watched_pct=10,\n",
    "    fb__total_dur_min=2000,\n",
    "    days=10,\n",
    "    date_col=DATE_COL,\n",
    "    user_col=USER_COL,\n",
    "    item_col=ITEM_COL\n",
    ")\n",
    "\n",
    "popular.fit(train)"
   ]
  },
  {
   "cell_type": "code",
   "execution_count": 7,
   "id": "02162278",
   "metadata": {},
   "outputs": [],
   "source": [
    "test_cold_df['recs'] = popular.recommend(test_cold_df['user_id'].tolist(), 10)"
   ]
  },
  {
   "cell_type": "code",
   "execution_count": 8,
   "id": "74987852",
   "metadata": {},
   "outputs": [
    {
     "data": {
      "text/plain": [
       "0.27165462904601767"
      ]
     },
     "execution_count": 8,
     "metadata": {},
     "output_type": "execute_result"
    }
   ],
   "source": [
    "map_at_k(\n",
    "    10,\n",
    "    test_cold_df['recs'],\n",
    "    test_cold_df['real']\n",
    ")"
   ]
  },
  {
   "cell_type": "markdown",
   "id": "29e3ea49",
   "metadata": {},
   "source": [
    "## Warm Predictions"
   ]
  },
  {
   "cell_type": "markdown",
   "id": "2c270cf9",
   "metadata": {},
   "source": [
    "### CF"
   ]
  },
  {
   "cell_type": "code",
   "execution_count": 73,
   "id": "963bb2b5",
   "metadata": {},
   "outputs": [
    {
     "name": "stderr",
     "output_type": "stream",
     "text": [
      "32it [00:05,  5.57it/s]\n"
     ]
    },
    {
     "data": {
      "text/plain": [
       "(0.4521586103305911, 0.0)"
      ]
     },
     "execution_count": 73,
     "metadata": {},
     "output_type": "execute_result"
    }
   ],
   "source": [
    "model = SegmentRecommender(\n",
    "    days=10,\n",
    "    date_col=DATE_COL,\n",
    "    user_col=USER_COL,\n",
    "    item_col=ITEM_COL,\n",
    "    fb__min_watched_pct=10,\n",
    "    fb__total_dur_min=2000,\n",
    "    segment=['age', 'sex']\n",
    ")\n",
    "\n",
    "model.add_user_features(data.users)\n",
    "\n",
    "model.fit(train)\n",
    "\n",
    "test_warm_df['recs_test'] = model.recommend(test_warm_df['user_id'].tolist(), 200)\n",
    "\n",
    "test_warm_df['perc'] = test_warm_df.apply(lambda x: len(list(set(x['real']).intersection(set(x['recs_test'])))) / len(x['real']), axis=1)\n",
    "test_warm_df['perc'].mean(), test_warm_df['perc'].quantile(0.25)"
   ]
  },
  {
   "cell_type": "code",
   "execution_count": 8,
   "id": "ad45fd62",
   "metadata": {},
   "outputs": [
    {
     "data": {
      "text/plain": [
       "'Поговори, ней, 2002, Испания, друзья, любовь, сильные, женщины, преодоление, трудностей, отношения, дружба, отношения, паре, отношения, мужчины, женщины, романтические, отношения, потеря, близких, флешбек, видения, несчастный, случай, разговоры, любовники, кома'"
      ]
     },
     "execution_count": 8,
     "metadata": {},
     "output_type": "execute_result"
    }
   ],
   "source": []
  },
  {
   "cell_type": "code",
   "execution_count": 1,
   "id": "7c0cad31",
   "metadata": {},
   "outputs": [
    {
     "ename": "NameError",
     "evalue": "name 'data' is not defined",
     "output_type": "error",
     "traceback": [
      "\u001b[0;31m---------------------------------------------------------------------------\u001b[0m",
      "\u001b[0;31mNameError\u001b[0m                                 Traceback (most recent call last)",
      "\u001b[0;32m/var/folders/_q/4c1b53g15wq20l6zfhthblz80000gp/T/ipykernel_55220/1871020072.py\u001b[0m in \u001b[0;36m<module>\u001b[0;34m\u001b[0m\n\u001b[1;32m      1\u001b[0m \u001b[0;32mfrom\u001b[0m \u001b[0mcatboost\u001b[0m\u001b[0;34m.\u001b[0m\u001b[0mtext_processing\u001b[0m \u001b[0;32mimport\u001b[0m \u001b[0mTokenizer\u001b[0m\u001b[0;34m\u001b[0m\u001b[0;34m\u001b[0m\u001b[0m\n\u001b[1;32m      2\u001b[0m \u001b[0;34m\u001b[0m\u001b[0m\n\u001b[0;32m----> 3\u001b[0;31m \u001b[0mw\u001b[0m \u001b[0;34m=\u001b[0m \u001b[0mdata\u001b[0m\u001b[0;34m.\u001b[0m\u001b[0mitems\u001b[0m\u001b[0;34m.\u001b[0m\u001b[0mloc\u001b[0m\u001b[0;34m[\u001b[0m\u001b[0;36m0\u001b[0m\u001b[0;34m]\u001b[0m\u001b[0;34m.\u001b[0m\u001b[0mkeywords\u001b[0m\u001b[0;34m\u001b[0m\u001b[0;34m\u001b[0m\u001b[0m\n\u001b[0m\u001b[1;32m      4\u001b[0m \u001b[0;34m\u001b[0m\u001b[0m\n\u001b[1;32m      5\u001b[0m token = Tokenizer(\n",
      "\u001b[0;31mNameError\u001b[0m: name 'data' is not defined"
     ]
    }
   ],
   "source": [
    "from catboost.text_processing import Tokenizer\n",
    "\n",
    "w = data.items.loc[0].keywords\n",
    "\n",
    "token = Tokenizer(\n",
    "    delimiter=', ',\n",
    "    lowercasing=True,\n",
    "    lemmatizing=True\n",
    ")\n",
    "\n",
    "token.tokenize(w)"
   ]
  },
  {
   "cell_type": "code",
   "execution_count": null,
   "id": "3270f839",
   "metadata": {},
   "outputs": [],
   "source": []
  },
  {
   "cell_type": "code",
   "execution_count": null,
   "id": "043eb315",
   "metadata": {},
   "outputs": [],
   "source": []
  },
  {
   "cell_type": "code",
   "execution_count": 9,
   "id": "3ebc138f",
   "metadata": {},
   "outputs": [],
   "source": [
    "lfm = WeightFeaturedLightFM(\n",
    "    notseen_watched_upper=95,\n",
    "    notseen_watched_lower=5,\n",
    "    no_components=150,\n",
    "    date_col=DATE_COL,\n",
    "    user_col=USER_COL,\n",
    "    item_col=ITEM_COL,\n",
    "    user_features_col=None,\n",
    "    item_features_col=None,\n",
    "    preprocess_array_split=None\n",
    ")\n",
    "\n",
    "lfm.fit(train)"
   ]
  },
  {
   "cell_type": "code",
   "execution_count": 10,
   "id": "0b3dbd74",
   "metadata": {},
   "outputs": [],
   "source": [
    "test_warm_df = test_warm.groupby('user_id')['item_id'].apply(list).reset_index().rename(columns={'item_id': 'real'})"
   ]
  },
  {
   "cell_type": "code",
   "execution_count": 11,
   "id": "f55aa1ef",
   "metadata": {},
   "outputs": [
    {
     "name": "stderr",
     "output_type": "stream",
     "text": [
      "100%|███████████████████████████████████████████████████████████████████████████████████████████████████████████████████████████| 191361/191361 [15:36<00:00, 204.25it/s]\n"
     ]
    }
   ],
   "source": [
    "test_warm_df['recs'] = lfm.recommend(test_warm_df['user_id'].tolist(), 50)"
   ]
  },
  {
   "cell_type": "code",
   "execution_count": null,
   "id": "d7ef28a1",
   "metadata": {},
   "outputs": [],
   "source": [
    "map_at_k(\n",
    "    10,\n",
    "    test_warm_df['recs'],\n",
    "    test_warm_df['real']\n",
    ")"
   ]
  },
  {
   "cell_type": "markdown",
   "id": "64c89075",
   "metadata": {},
   "source": [
    "### Catboost"
   ]
  },
  {
   "cell_type": "code",
   "execution_count": null,
   "id": "8baf994f",
   "metadata": {},
   "outputs": [],
   "source": [
    "!pip install -q catboost"
   ]
  },
  {
   "cell_type": "code",
   "execution_count": null,
   "id": "f792a87f",
   "metadata": {},
   "outputs": [
    {
     "name": "stderr",
     "output_type": "stream",
     "text": [
      " 77%|██████████████████████████████████████████████████████████████████████████████████████████████▏                            | 146545/191361 [12:01<03:51, 193.79it/s]"
     ]
    }
   ],
   "source": [
    "test_warm_df['recs'] = lfm.recommend(test_warm_df['user_id'].tolist(), 100)"
   ]
  },
  {
   "cell_type": "code",
   "execution_count": 12,
   "id": "42889c3c",
   "metadata": {},
   "outputs": [
    {
     "data": {
      "text/html": [
       "<div>\n",
       "<style scoped>\n",
       "    .dataframe tbody tr th:only-of-type {\n",
       "        vertical-align: middle;\n",
       "    }\n",
       "\n",
       "    .dataframe tbody tr th {\n",
       "        vertical-align: top;\n",
       "    }\n",
       "\n",
       "    .dataframe thead th {\n",
       "        text-align: right;\n",
       "    }\n",
       "</style>\n",
       "<table border=\"1\" class=\"dataframe\">\n",
       "  <thead>\n",
       "    <tr style=\"text-align: right;\">\n",
       "      <th></th>\n",
       "      <th>user_id</th>\n",
       "      <th>item_id</th>\n",
       "      <th>y</th>\n",
       "      <th>age</th>\n",
       "      <th>income</th>\n",
       "      <th>sex</th>\n",
       "      <th>kids_flg</th>\n",
       "      <th>content_type</th>\n",
       "      <th>title</th>\n",
       "      <th>title_orig</th>\n",
       "      <th>...</th>\n",
       "      <th>countries</th>\n",
       "      <th>for_kids</th>\n",
       "      <th>age_rating</th>\n",
       "      <th>studios</th>\n",
       "      <th>directors</th>\n",
       "      <th>actors</th>\n",
       "      <th>description</th>\n",
       "      <th>keywords</th>\n",
       "      <th>release_year_cat</th>\n",
       "      <th>for_kids_rating</th>\n",
       "    </tr>\n",
       "  </thead>\n",
       "  <tbody>\n",
       "    <tr>\n",
       "      <th>0</th>\n",
       "      <td>1067648</td>\n",
       "      <td>2358</td>\n",
       "      <td>1</td>\n",
       "      <td>age_55_64</td>\n",
       "      <td>income_20_40</td>\n",
       "      <td>zh</td>\n",
       "      <td>0.0</td>\n",
       "      <td>film</td>\n",
       "      <td>нимфоманка. фильм первый</td>\n",
       "      <td>Nymphomaniac: Vol. I</td>\n",
       "      <td>...</td>\n",
       "      <td>бельгия, германия, дания, франция</td>\n",
       "      <td>-1</td>\n",
       "      <td>18.0</td>\n",
       "      <td>unknown</td>\n",
       "      <td>ларс фон триер</td>\n",
       "      <td>Стеллан Скарсгард, Шайа ЛаБаф, Ума Турман, Йен...</td>\n",
       "      <td>История эротических переживаний женщины от рож...</td>\n",
       "      <td>нахлыст, девственница, униформа, грех, нимфома...</td>\n",
       "      <td>2010-2020</td>\n",
       "      <td>0</td>\n",
       "    </tr>\n",
       "    <tr>\n",
       "      <th>1</th>\n",
       "      <td>735886</td>\n",
       "      <td>9935</td>\n",
       "      <td>1</td>\n",
       "      <td>age_18_24</td>\n",
       "      <td>income_40_60</td>\n",
       "      <td>zh</td>\n",
       "      <td>1.0</td>\n",
       "      <td>film</td>\n",
       "      <td>антебеллум</td>\n",
       "      <td>Antebellum</td>\n",
       "      <td>...</td>\n",
       "      <td>сша</td>\n",
       "      <td>-1</td>\n",
       "      <td>18.0</td>\n",
       "      <td>unknown</td>\n",
       "      <td>джерард буш, кристофер ренц</td>\n",
       "      <td>Жанель Моне, Эрик Ланж, Джек Хьюстон, Кирси Кл...</td>\n",
       "      <td>Известная писательница, активистка и борец за ...</td>\n",
       "      <td>2020, соединенные штаты, антебеллум</td>\n",
       "      <td>2020_inf</td>\n",
       "      <td>0</td>\n",
       "    </tr>\n",
       "    <tr>\n",
       "      <th>2</th>\n",
       "      <td>993358</td>\n",
       "      <td>7417</td>\n",
       "      <td>1</td>\n",
       "      <td>age_25_34</td>\n",
       "      <td>income_40_60</td>\n",
       "      <td>m</td>\n",
       "      <td>0.0</td>\n",
       "      <td>film</td>\n",
       "      <td>стендап под прикрытием</td>\n",
       "      <td>Undercover standup</td>\n",
       "      <td>...</td>\n",
       "      <td>россия</td>\n",
       "      <td>-1</td>\n",
       "      <td>16.0</td>\n",
       "      <td>unknown</td>\n",
       "      <td>олег асадулин</td>\n",
       "      <td>Валентина Мазунина, Кирилл Нагиев, Зоя Бербер,...</td>\n",
       "      <td>Дерзкая и циничная опер в юбке Светлана Артюхо...</td>\n",
       "      <td>2020, россия, стендап, под, прикрытием</td>\n",
       "      <td>2020_inf</td>\n",
       "      <td>0</td>\n",
       "    </tr>\n",
       "    <tr>\n",
       "      <th>3</th>\n",
       "      <td>429759</td>\n",
       "      <td>334</td>\n",
       "      <td>1</td>\n",
       "      <td>age_35_44</td>\n",
       "      <td>income_60_90</td>\n",
       "      <td>zh</td>\n",
       "      <td>0.0</td>\n",
       "      <td>film</td>\n",
       "      <td>храбрая сердцем</td>\n",
       "      <td>Brave</td>\n",
       "      <td>...</td>\n",
       "      <td>сша</td>\n",
       "      <td>-1</td>\n",
       "      <td>6.0</td>\n",
       "      <td>unknown</td>\n",
       "      <td>марк эндрюс, бренда чепмен, стив пёрселл</td>\n",
       "      <td>Келли Макдоналд, Эмма Томпсон, Билли Коннолли,...</td>\n",
       "      <td>Испокон веков мифы и легенды окутывают загадоч...</td>\n",
       "      <td>Шотландия, бунтарь, храбрость, королевство, лу...</td>\n",
       "      <td>2010-2020</td>\n",
       "      <td>1</td>\n",
       "    </tr>\n",
       "    <tr>\n",
       "      <th>4</th>\n",
       "      <td>506639</td>\n",
       "      <td>4141</td>\n",
       "      <td>1</td>\n",
       "      <td>age_18_24</td>\n",
       "      <td>income_20_40</td>\n",
       "      <td>m</td>\n",
       "      <td>0.0</td>\n",
       "      <td>film</td>\n",
       "      <td>пятьдесят оттенков серого</td>\n",
       "      <td>Fifty Shades of Grey</td>\n",
       "      <td>...</td>\n",
       "      <td>сша</td>\n",
       "      <td>-1</td>\n",
       "      <td>18.0</td>\n",
       "      <td>unknown</td>\n",
       "      <td>сэм тейлор-джонсон</td>\n",
       "      <td>Виктор Расук, Дакота Джонсон, Джейми Дорнан, Д...</td>\n",
       "      <td>Анастейша Стил — скромная студентка, живущая в...</td>\n",
       "      <td>на основе романа или книги, извращение, порка,...</td>\n",
       "      <td>2010-2020</td>\n",
       "      <td>0</td>\n",
       "    </tr>\n",
       "    <tr>\n",
       "      <th>...</th>\n",
       "      <td>...</td>\n",
       "      <td>...</td>\n",
       "      <td>...</td>\n",
       "      <td>...</td>\n",
       "      <td>...</td>\n",
       "      <td>...</td>\n",
       "      <td>...</td>\n",
       "      <td>...</td>\n",
       "      <td>...</td>\n",
       "      <td>...</td>\n",
       "      <td>...</td>\n",
       "      <td>...</td>\n",
       "      <td>...</td>\n",
       "      <td>...</td>\n",
       "      <td>...</td>\n",
       "      <td>...</td>\n",
       "      <td>...</td>\n",
       "      <td>...</td>\n",
       "      <td>...</td>\n",
       "      <td>...</td>\n",
       "      <td>...</td>\n",
       "    </tr>\n",
       "    <tr>\n",
       "      <th>13455161</th>\n",
       "      <td>1097557</td>\n",
       "      <td>12597</td>\n",
       "      <td>0</td>\n",
       "      <td>age_35_44</td>\n",
       "      <td>income_20_40</td>\n",
       "      <td>zh</td>\n",
       "      <td>0.0</td>\n",
       "      <td>film</td>\n",
       "      <td>эволюция борна</td>\n",
       "      <td>The Bourne Legacy</td>\n",
       "      <td>...</td>\n",
       "      <td>сша, япония</td>\n",
       "      <td>-1</td>\n",
       "      <td>16.0</td>\n",
       "      <td>unknown</td>\n",
       "      <td>тони гилрой</td>\n",
       "      <td>Джереми Реннер, Джоан Аллен, Донна Мерфи, Дэви...</td>\n",
       "      <td>Параллельно с программой ЦРУ по подготовке кил...</td>\n",
       "      <td>убийца, волк, сеул, мэриленд, тайная операция,...</td>\n",
       "      <td>2010-2020</td>\n",
       "      <td>0</td>\n",
       "    </tr>\n",
       "    <tr>\n",
       "      <th>13455162</th>\n",
       "      <td>1097557</td>\n",
       "      <td>9332</td>\n",
       "      <td>0</td>\n",
       "      <td>age_35_44</td>\n",
       "      <td>income_20_40</td>\n",
       "      <td>zh</td>\n",
       "      <td>0.0</td>\n",
       "      <td>film</td>\n",
       "      <td>заноза</td>\n",
       "      <td>Splinter</td>\n",
       "      <td>...</td>\n",
       "      <td>сша</td>\n",
       "      <td>-1</td>\n",
       "      <td>18.0</td>\n",
       "      <td>unknown</td>\n",
       "      <td>тоби уилкинс</td>\n",
       "      <td>Джилл Вагнер, Лорел Уитсетт, Паоло Костанзо, Р...</td>\n",
       "      <td>Молодая пара оказывается заперта на заброшенно...</td>\n",
       "      <td>Заноза, 2008, США, притяжение, противоположнос...</td>\n",
       "      <td>2000-2010</td>\n",
       "      <td>0</td>\n",
       "    </tr>\n",
       "    <tr>\n",
       "      <th>13455163</th>\n",
       "      <td>1097557</td>\n",
       "      <td>11352</td>\n",
       "      <td>0</td>\n",
       "      <td>age_35_44</td>\n",
       "      <td>income_20_40</td>\n",
       "      <td>zh</td>\n",
       "      <td>0.0</td>\n",
       "      <td>film</td>\n",
       "      <td>тёмная сторона</td>\n",
       "      <td>Virtualia Episode Three: Dark Side</td>\n",
       "      <td>...</td>\n",
       "      <td>швеция</td>\n",
       "      <td>-1</td>\n",
       "      <td>21.0</td>\n",
       "      <td>unknown</td>\n",
       "      <td>антонио адамо</td>\n",
       "      <td>Линн Стоун, Клаудия Риччи, Софи Эванс, Сандра ...</td>\n",
       "      <td>Приключенческая эротика в духе Индианы Джонса ...</td>\n",
       "      <td>, Анальный секс, Банкомат, Взгляд в камеру, Вт...</td>\n",
       "      <td>2000-2010</td>\n",
       "      <td>0</td>\n",
       "    </tr>\n",
       "    <tr>\n",
       "      <th>13455164</th>\n",
       "      <td>1097557</td>\n",
       "      <td>15512</td>\n",
       "      <td>0</td>\n",
       "      <td>age_35_44</td>\n",
       "      <td>income_20_40</td>\n",
       "      <td>zh</td>\n",
       "      <td>0.0</td>\n",
       "      <td>series</td>\n",
       "      <td>в последний раз прощаюсь</td>\n",
       "      <td>None</td>\n",
       "      <td>...</td>\n",
       "      <td>украина</td>\n",
       "      <td>-1</td>\n",
       "      <td>16.0</td>\n",
       "      <td>unknown</td>\n",
       "      <td>андрей черных</td>\n",
       "      <td>Александра Польгуй, Андрей Романий, Андрей Фед...</td>\n",
       "      <td>Когда-то в молодости Андрей спас тонущую девоч...</td>\n",
       "      <td>последний, раз, прощаюсь, 2017, Украина, безот...</td>\n",
       "      <td>2010-2020</td>\n",
       "      <td>0</td>\n",
       "    </tr>\n",
       "    <tr>\n",
       "      <th>13455165</th>\n",
       "      <td>1097557</td>\n",
       "      <td>13061</td>\n",
       "      <td>0</td>\n",
       "      <td>age_35_44</td>\n",
       "      <td>income_20_40</td>\n",
       "      <td>zh</td>\n",
       "      <td>0.0</td>\n",
       "      <td>film</td>\n",
       "      <td>крепость на колесах</td>\n",
       "      <td>None</td>\n",
       "      <td>...</td>\n",
       "      <td>ссср</td>\n",
       "      <td>-1</td>\n",
       "      <td>0.0</td>\n",
       "      <td>unknown</td>\n",
       "      <td>олег ленциус</td>\n",
       "      <td>Борис Дмоховский, Василий Векшин, Григорий Мих...</td>\n",
       "      <td>Военная драма режиссера Олега Ленциуса («Черны...</td>\n",
       "      <td>Крепость, колесах, 1960, СССР, армия, Великая,...</td>\n",
       "      <td>1960-1970</td>\n",
       "      <td>1</td>\n",
       "    </tr>\n",
       "  </tbody>\n",
       "</table>\n",
       "<p>13455166 rows × 22 columns</p>\n",
       "</div>"
      ],
      "text/plain": [
       "          user_id  item_id  y        age        income sex  kids_flg  \\\n",
       "0         1067648     2358  1  age_55_64  income_20_40  zh       0.0   \n",
       "1          735886     9935  1  age_18_24  income_40_60  zh       1.0   \n",
       "2          993358     7417  1  age_25_34  income_40_60   m       0.0   \n",
       "3          429759      334  1  age_35_44  income_60_90  zh       0.0   \n",
       "4          506639     4141  1  age_18_24  income_20_40   m       0.0   \n",
       "...           ...      ... ..        ...           ...  ..       ...   \n",
       "13455161  1097557    12597  0  age_35_44  income_20_40  zh       0.0   \n",
       "13455162  1097557     9332  0  age_35_44  income_20_40  zh       0.0   \n",
       "13455163  1097557    11352  0  age_35_44  income_20_40  zh       0.0   \n",
       "13455164  1097557    15512  0  age_35_44  income_20_40  zh       0.0   \n",
       "13455165  1097557    13061  0  age_35_44  income_20_40  zh       0.0   \n",
       "\n",
       "         content_type                      title  \\\n",
       "0                film   нимфоманка. фильм первый   \n",
       "1                film                 антебеллум   \n",
       "2                film     стендап под прикрытием   \n",
       "3                film            храбрая сердцем   \n",
       "4                film  пятьдесят оттенков серого   \n",
       "...               ...                        ...   \n",
       "13455161         film             эволюция борна   \n",
       "13455162         film                     заноза   \n",
       "13455163         film             тёмная сторона   \n",
       "13455164       series   в последний раз прощаюсь   \n",
       "13455165         film        крепость на колесах   \n",
       "\n",
       "                                  title_orig  ...  \\\n",
       "0                       Nymphomaniac: Vol. I  ...   \n",
       "1                                 Antebellum  ...   \n",
       "2                         Undercover standup  ...   \n",
       "3                                      Brave  ...   \n",
       "4                       Fifty Shades of Grey  ...   \n",
       "...                                      ...  ...   \n",
       "13455161                   The Bourne Legacy  ...   \n",
       "13455162                            Splinter  ...   \n",
       "13455163  Virtualia Episode Three: Dark Side  ...   \n",
       "13455164                                None  ...   \n",
       "13455165                                None  ...   \n",
       "\n",
       "                                  countries for_kids age_rating  studios  \\\n",
       "0         бельгия, германия, дания, франция       -1       18.0  unknown   \n",
       "1                                       сша       -1       18.0  unknown   \n",
       "2                                    россия       -1       16.0  unknown   \n",
       "3                                       сша       -1        6.0  unknown   \n",
       "4                                       сша       -1       18.0  unknown   \n",
       "...                                     ...      ...        ...      ...   \n",
       "13455161                        сша, япония       -1       16.0  unknown   \n",
       "13455162                                сша       -1       18.0  unknown   \n",
       "13455163                             швеция       -1       21.0  unknown   \n",
       "13455164                            украина       -1       16.0  unknown   \n",
       "13455165                               ссср       -1        0.0  unknown   \n",
       "\n",
       "                                         directors  \\\n",
       "0                                   ларс фон триер   \n",
       "1                      джерард буш, кристофер ренц   \n",
       "2                                    олег асадулин   \n",
       "3         марк эндрюс, бренда чепмен, стив пёрселл   \n",
       "4                               сэм тейлор-джонсон   \n",
       "...                                            ...   \n",
       "13455161                               тони гилрой   \n",
       "13455162                              тоби уилкинс   \n",
       "13455163                             антонио адамо   \n",
       "13455164                             андрей черных   \n",
       "13455165                              олег ленциус   \n",
       "\n",
       "                                                     actors  \\\n",
       "0         Стеллан Скарсгард, Шайа ЛаБаф, Ума Турман, Йен...   \n",
       "1         Жанель Моне, Эрик Ланж, Джек Хьюстон, Кирси Кл...   \n",
       "2         Валентина Мазунина, Кирилл Нагиев, Зоя Бербер,...   \n",
       "3         Келли Макдоналд, Эмма Томпсон, Билли Коннолли,...   \n",
       "4         Виктор Расук, Дакота Джонсон, Джейми Дорнан, Д...   \n",
       "...                                                     ...   \n",
       "13455161  Джереми Реннер, Джоан Аллен, Донна Мерфи, Дэви...   \n",
       "13455162  Джилл Вагнер, Лорел Уитсетт, Паоло Костанзо, Р...   \n",
       "13455163  Линн Стоун, Клаудия Риччи, Софи Эванс, Сандра ...   \n",
       "13455164  Александра Польгуй, Андрей Романий, Андрей Фед...   \n",
       "13455165  Борис Дмоховский, Василий Векшин, Григорий Мих...   \n",
       "\n",
       "                                                description  \\\n",
       "0         История эротических переживаний женщины от рож...   \n",
       "1         Известная писательница, активистка и борец за ...   \n",
       "2         Дерзкая и циничная опер в юбке Светлана Артюхо...   \n",
       "3         Испокон веков мифы и легенды окутывают загадоч...   \n",
       "4         Анастейша Стил — скромная студентка, живущая в...   \n",
       "...                                                     ...   \n",
       "13455161  Параллельно с программой ЦРУ по подготовке кил...   \n",
       "13455162  Молодая пара оказывается заперта на заброшенно...   \n",
       "13455163  Приключенческая эротика в духе Индианы Джонса ...   \n",
       "13455164  Когда-то в молодости Андрей спас тонущую девоч...   \n",
       "13455165  Военная драма режиссера Олега Ленциуса («Черны...   \n",
       "\n",
       "                                                   keywords release_year_cat  \\\n",
       "0         нахлыст, девственница, униформа, грех, нимфома...        2010-2020   \n",
       "1                       2020, соединенные штаты, антебеллум         2020_inf   \n",
       "2                    2020, россия, стендап, под, прикрытием         2020_inf   \n",
       "3         Шотландия, бунтарь, храбрость, королевство, лу...        2010-2020   \n",
       "4         на основе романа или книги, извращение, порка,...        2010-2020   \n",
       "...                                                     ...              ...   \n",
       "13455161  убийца, волк, сеул, мэриленд, тайная операция,...        2010-2020   \n",
       "13455162  Заноза, 2008, США, притяжение, противоположнос...        2000-2010   \n",
       "13455163  , Анальный секс, Банкомат, Взгляд в камеру, Вт...        2000-2010   \n",
       "13455164  последний, раз, прощаюсь, 2017, Украина, безот...        2010-2020   \n",
       "13455165  Крепость, колесах, 1960, СССР, армия, Великая,...        1960-1970   \n",
       "\n",
       "         for_kids_rating  \n",
       "0                      0  \n",
       "1                      0  \n",
       "2                      0  \n",
       "3                      1  \n",
       "4                      0  \n",
       "...                  ...  \n",
       "13455161               0  \n",
       "13455162               0  \n",
       "13455163               0  \n",
       "13455164               0  \n",
       "13455165               1  \n",
       "\n",
       "[13455166 rows x 22 columns]"
      ]
     },
     "execution_count": 12,
     "metadata": {},
     "output_type": "execute_result"
    }
   ],
   "source": [
    "cbc_df = train.loc[:, ['user_id', 'item_id']]\n",
    "cbc_df.loc[:, 'y'] = 1\n",
    "cbc_unused = data.unused.copy()\n",
    "cbc_unused['y'] = 0\n",
    "\n",
    "cbc_df = pd.merge(\n",
    "    left=pd.merge(\n",
    "        left=pd.concat([cbc_df, cbc_unused]),\n",
    "        right=data.users,\n",
    "        on=[USER_COL],\n",
    "        how='left'\n",
    "    ),\n",
    "    right=data.items,\n",
    "    on=[ITEM_COL],\n",
    "    how='left'\n",
    ")\n",
    "\n",
    "cbc_df"
   ]
  },
  {
   "cell_type": "code",
   "execution_count": 53,
   "id": "094504d4",
   "metadata": {},
   "outputs": [
    {
     "data": {
      "text/plain": [
       "Index(['user_id', 'item_id', 'y', 'age', 'income', 'sex', 'kids_flg',\n",
       "       'content_type', 'title', 'title_orig', 'release_year', 'genres',\n",
       "       'countries', 'for_kids', 'age_rating', 'studios', 'directors', 'actors',\n",
       "       'description', 'keywords', 'release_year_cat', 'for_kids_rating'],\n",
       "      dtype='object')"
      ]
     },
     "execution_count": 53,
     "metadata": {},
     "output_type": "execute_result"
    }
   ],
   "source": [
    "cbc_df.columns"
   ]
  },
  {
   "cell_type": "code",
   "execution_count": 54,
   "id": "5fd251a7",
   "metadata": {},
   "outputs": [
    {
     "data": {
      "text/plain": [
       "0                                               драмы\n",
       "1                                     драмы, триллеры\n",
       "2                                             комедии\n",
       "3           мультфильм, фэнтези, приключения, комедии\n",
       "4                                           мелодрамы\n",
       "                              ...                    \n",
       "13455161               боевики, триллеры, приключения\n",
       "13455162      фантастика, зарубежные, триллеры, ужасы\n",
       "13455163                                 для взрослых\n",
       "13455164                        зарубежные, мелодрамы\n",
       "13455165                           советские, военные\n",
       "Name: genres, Length: 13455166, dtype: object"
      ]
     },
     "execution_count": 54,
     "metadata": {},
     "output_type": "execute_result"
    }
   ],
   "source": [
    "cbc_df['genres']"
   ]
  },
  {
   "cell_type": "code",
   "execution_count": 13,
   "id": "155814bc",
   "metadata": {},
   "outputs": [],
   "source": [
    "cbc_df['sex'] = cbc_df['sex'].fillna('unknown')\n",
    "cbc_df['age'] = cbc_df['age'].fillna('age_unknown')\n",
    "cbc_df['genres'] = cbc_df['genres'].fillna('genres_unknown')"
   ]
  },
  {
   "cell_type": "code",
   "execution_count": 14,
   "id": "fb7e59f3",
   "metadata": {},
   "outputs": [
    {
     "name": "stdout",
     "output_type": "stream",
     "text": [
      "Learning rate set to 0.5\n",
      "0:\tlearn: 0.5713483\ttotal: 3.38s\tremaining: 1m 38s\n",
      "1:\tlearn: 0.5381965\ttotal: 6.92s\tremaining: 1m 36s\n",
      "2:\tlearn: 0.5013839\ttotal: 10s\tremaining: 1m 30s\n",
      "3:\tlearn: 0.4593684\ttotal: 13.5s\tremaining: 1m 27s\n",
      "4:\tlearn: 0.4382221\ttotal: 17.2s\tremaining: 1m 25s\n",
      "5:\tlearn: 0.4233655\ttotal: 20.2s\tremaining: 1m 20s\n",
      "6:\tlearn: 0.4178412\ttotal: 23.1s\tremaining: 1m 15s\n",
      "7:\tlearn: 0.4125235\ttotal: 26.2s\tremaining: 1m 12s\n",
      "8:\tlearn: 0.4102451\ttotal: 28.7s\tremaining: 1m 7s\n",
      "9:\tlearn: 0.4082438\ttotal: 31.8s\tremaining: 1m 3s\n",
      "10:\tlearn: 0.4045613\ttotal: 35s\tremaining: 1m\n",
      "11:\tlearn: 0.3999742\ttotal: 38s\tremaining: 57s\n",
      "12:\tlearn: 0.3981588\ttotal: 40.4s\tremaining: 52.8s\n",
      "13:\tlearn: 0.3957874\ttotal: 42.8s\tremaining: 48.9s\n",
      "14:\tlearn: 0.3940365\ttotal: 45.3s\tremaining: 45.3s\n",
      "15:\tlearn: 0.3928343\ttotal: 47.6s\tremaining: 41.7s\n",
      "16:\tlearn: 0.3921093\ttotal: 50.1s\tremaining: 38.3s\n",
      "17:\tlearn: 0.3912654\ttotal: 52.6s\tremaining: 35.1s\n",
      "18:\tlearn: 0.3896875\ttotal: 55.6s\tremaining: 32.2s\n",
      "19:\tlearn: 0.3886960\ttotal: 58.2s\tremaining: 29.1s\n",
      "20:\tlearn: 0.3878628\ttotal: 1m\tremaining: 25.9s\n",
      "21:\tlearn: 0.3870825\ttotal: 1m 2s\tremaining: 22.8s\n",
      "22:\tlearn: 0.3861388\ttotal: 1m 5s\tremaining: 19.8s\n",
      "23:\tlearn: 0.3845392\ttotal: 1m 7s\tremaining: 16.9s\n",
      "24:\tlearn: 0.3836090\ttotal: 1m 10s\tremaining: 14s\n",
      "25:\tlearn: 0.3820575\ttotal: 1m 13s\tremaining: 11.2s\n",
      "26:\tlearn: 0.3814990\ttotal: 1m 15s\tremaining: 8.35s\n",
      "27:\tlearn: 0.3808932\ttotal: 1m 17s\tremaining: 5.55s\n",
      "28:\tlearn: 0.3805735\ttotal: 1m 20s\tremaining: 2.77s\n",
      "29:\tlearn: 0.3801601\ttotal: 1m 22s\tremaining: 0us\n"
     ]
    },
    {
     "data": {
      "text/plain": [
       "<catboost.core.CatBoostClassifier at 0x7f8df8ad70d0>"
      ]
     },
     "execution_count": 14,
     "metadata": {},
     "output_type": "execute_result"
    }
   ],
   "source": [
    "from catboost import CatBoostClassifier\n",
    "\n",
    "cbc = CatBoostClassifier(\n",
    "    cat_features=['sex', 'age', 'release_year_cat', 'content_type'],\n",
    "    text_features=['genres'],\n",
    "    iterations=30\n",
    ")\n",
    "\n",
    "cbc.fit(cbc_df[['sex', 'age', 'release_year_cat', 'content_type', 'genres']], cbc_df['y'])"
   ]
  },
  {
   "cell_type": "code",
   "execution_count": null,
   "id": "fbd89453",
   "metadata": {},
   "outputs": [],
   "source": [
    "test_pred = pd.merge(\n",
    "    left=pd.merge(\n",
    "        left=test_warm_df.drop('real', axis=1).explode('recs').rename(columns={'recs': ITEM_COL}),\n",
    "        right=data.items,\n",
    "        on=[ITEM_COL],\n",
    "        how='left'\n",
    "    ),\n",
    "    right=data.users,\n",
    "    on=[USER_COL],\n",
    "    how='left'\n",
    ")\n",
    "\n",
    "test_pred['sex'] = test_pred['sex'].fillna('unknown')\n",
    "test_pred['age'] = test_pred['age'].fillna('age_unknown')\n",
    "test_pred['genres'] = test_pred['genres'].fillna('genres_unknown')\n",
    "\n",
    "test_pred['rating'] = cbc.predict_proba(test_pred[['sex', 'age', 'release_year_cat', 'content_type', 'genres']])[:, 1]\n",
    "test_pred = test_pred.groupby(USER_COL).apply(lambda x: x.sort_values('rating', ascending=False)[ITEM_COL].tolist()[:10])"
   ]
  },
  {
   "cell_type": "code",
   "execution_count": null,
   "id": "adcf60ae",
   "metadata": {},
   "outputs": [],
   "source": [
    "map_at_k(\n",
    "    10,\n",
    "    test_pred.loc[test_warm_df[USER_COL].tolist()],\n",
    "    test_warm_df['real']\n",
    ")"
   ]
  },
  {
   "cell_type": "code",
   "execution_count": 60,
   "id": "cd2da359",
   "metadata": {},
   "outputs": [],
   "source": [
    "test_warm_df['perc'] = test_warm_df.apply(lambda x: len(list(set(x['real']).intersection(set(x['recs'])))) / len(x['real']), axis=1)\n",
    "test_warm_df['perc'].mean(), test_warm_df['perc'].quantile(0.25)"
   ]
  },
  {
   "cell_type": "code",
   "execution_count": 63,
   "id": "64b0bae3",
   "metadata": {},
   "outputs": [
    {
     "data": {
      "text/plain": [
       "(0.3107621468081101, 0.0)"
      ]
     },
     "execution_count": 63,
     "metadata": {},
     "output_type": "execute_result"
    }
   ],
   "source": []
  },
  {
   "cell_type": "code",
   "execution_count": null,
   "id": "44f0f3b8",
   "metadata": {},
   "outputs": [],
   "source": []
  }
 ],
 "metadata": {
  "kernelspec": {
   "display_name": "Python 3 (ipykernel)",
   "language": "python",
   "name": "python3"
  },
  "language_info": {
   "codemirror_mode": {
    "name": "ipython",
    "version": 3
   },
   "file_extension": ".py",
   "mimetype": "text/x-python",
   "name": "python",
   "nbconvert_exporter": "python",
   "pygments_lexer": "ipython3",
   "version": "3.9.7"
  }
 },
 "nbformat": 4,
 "nbformat_minor": 5
}
